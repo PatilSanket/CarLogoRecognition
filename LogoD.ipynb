{
 "cells": [
  {
   "cell_type": "code",
   "execution_count": 1,
   "metadata": {},
   "outputs": [
    {
     "name": "stdout",
     "output_type": "stream",
     "text": [
      "['TestingData', 'TrainingData']\n"
     ]
    }
   ],
   "source": [
    "import numpy as np \n",
    "import pandas as pd \n",
    "import os\n",
    "print(os.listdir(\"./Data\"))"
   ]
  },
  {
   "cell_type": "code",
   "execution_count": 2,
   "metadata": {},
   "outputs": [
    {
     "name": "stderr",
     "output_type": "stream",
     "text": [
      "Using TensorFlow backend.\n"
     ]
    },
    {
     "name": "stdout",
     "output_type": "stream",
     "text": [
      "2.2.4\n"
     ]
    }
   ],
   "source": [
    "import keras\n",
    "print(keras.__version__)"
   ]
  },
  {
   "cell_type": "code",
   "execution_count": 3,
   "metadata": {},
   "outputs": [],
   "source": [
    "from sklearn.utils import shuffle\n",
    "from sklearn.model_selection import train_test_split\n",
    "\n",
    "import matplotlib.pyplot as plt\n",
    "from keras.models import Sequential, load_model\n",
    "from keras.layers import Activation, Dense, Dropout, Flatten\n",
    "from keras.layers import Conv2D, MaxPooling2D\n",
    "from keras.constraints import maxnorm\n",
    "from keras.optimizers import SGD\n",
    "from keras.utils.np_utils import to_categorical\n",
    "from keras.regularizers import l2\n",
    "from keras.initializers import RandomNormal, VarianceScaling\n",
    "%matplotlib inline"
   ]
  },
  {
   "cell_type": "code",
   "execution_count": 4,
   "metadata": {},
   "outputs": [
    {
     "name": "stdout",
     "output_type": "stream",
     "text": [
      "['Buick', 'Chery', 'Citroen', 'Honda', 'Hyundai', 'Lexus', 'Mazda', 'Peugeot', 'Toyota', 'VW']\n"
     ]
    }
   ],
   "source": [
    "img_x=img_y = 70\n",
    "path = \"./Data/TrainingData/\"\n",
    "imgs = []\n",
    "labels= []\n",
    "brands = os.listdir(path)\n",
    "print(brands)\n",
    "for idcar, brand in enumerate(brands):\n",
    "    img = os.listdir(path+brand)\n",
    "    for i, value in enumerate(img):\n",
    "        imgs.append(value)\n",
    "        labels.append(idcar)"
   ]
  },
  {
   "cell_type": "code",
   "execution_count": 6,
   "metadata": {},
   "outputs": [
    {
     "ename": "SyntaxError",
     "evalue": "invalid syntax (<ipython-input-6-8468a2f3547e>, line 2)",
     "output_type": "error",
     "traceback": [
      "\u001b[1;36m  File \u001b[1;32m\"<ipython-input-6-8468a2f3547e>\"\u001b[1;36m, line \u001b[1;32m2\u001b[0m\n\u001b[1;33m    images = np.array([ np.array( Image.open(path+brands[labels[i]]+'/'+value).flatten() for i, value in enumerate(imgs)], order='F', dtype='uint8')\u001b[0m\n\u001b[1;37m                                                                                                                        ^\u001b[0m\n\u001b[1;31mSyntaxError\u001b[0m\u001b[1;31m:\u001b[0m invalid syntax\n"
     ]
    }
   ],
   "source": [
    "from PIL import Image\n",
    "images = np.array([ np.array( Image.open(path+brands[labels[i]]+'/'+value).convert(\"RGB\")).flatten() for i, value in enumerate(imgs)], order='F', dtype='uint8')\n",
    "print('total images: ', np.shape(images) )"
   ]
  },
  {
   "cell_type": "code",
   "execution_count": 15,
   "metadata": {},
   "outputs": [],
   "source": [
    "dataset, labelset = shuffle(images, labels, random_state=42)\n",
    "train_data = [dataset, labelset] "
   ]
  },
  {
   "cell_type": "code",
   "execution_count": 16,
   "metadata": {},
   "outputs": [],
   "source": [
    "X_train, X_val, y_train, y_val = train_test_split( train_data[0], train_data[1], test_size=0.2)"
   ]
  },
  {
   "cell_type": "code",
   "execution_count": 17,
   "metadata": {},
   "outputs": [],
   "source": [
    "def ImageConvert(n, i):\n",
    "    im_ex = i.reshape(n, img_x, img_y, 3)\n",
    "    im_ex = im_ex.astype('float32') / 255\n",
    "    im_ex = np.subtract(im_ex, 0.5)\n",
    "    im_ex = np.multiply(im_ex, 2.0)\n",
    "    return im_ex\n",
    "X_train = ImageConvert(X_train.shape[0], X_train)\n",
    "X_val = ImageConvert(X_val.shape[0], X_val)"
   ]
  },
  {
   "cell_type": "code",
   "execution_count": 19,
   "metadata": {},
   "outputs": [],
   "source": [
    "Y_train = to_categorical(y_train, num_classes=len(brands))\n",
    "Y_val = to_categorical(y_val, num_classes=len(brands))"
   ]
  },
  {
   "cell_type": "code",
   "execution_count": 21,
   "metadata": {},
   "outputs": [
    {
     "name": "stdout",
     "output_type": "stream",
     "text": [
      "WARNING:tensorflow:From C:\\Users\\Sanket\\Anaconda3\\lib\\site-packages\\tensorflow\\python\\framework\\op_def_library.py:263: colocate_with (from tensorflow.python.framework.ops) is deprecated and will be removed in a future version.\n",
      "Instructions for updating:\n",
      "Colocations handled automatically by placer.\n",
      "WARNING:tensorflow:From C:\\Users\\Sanket\\Anaconda3\\lib\\site-packages\\keras\\backend\\tensorflow_backend.py:3445: calling dropout (from tensorflow.python.ops.nn_ops) with keep_prob is deprecated and will be removed in a future version.\n",
      "Instructions for updating:\n",
      "Please use `rate` instead of `keep_prob`. Rate should be set to `rate = 1 - keep_prob`.\n",
      "_________________________________________________________________\n",
      "Layer (type)                 Output Shape              Param #   \n",
      "=================================================================\n",
      "conv2d_1 (Conv2D)            (None, 68, 68, 32)        896       \n",
      "_________________________________________________________________\n",
      "max_pooling2d_1 (MaxPooling2 (None, 34, 34, 32)        0         \n",
      "_________________________________________________________________\n",
      "conv2d_2 (Conv2D)            (None, 32, 32, 64)        18496     \n",
      "_________________________________________________________________\n",
      "max_pooling2d_2 (MaxPooling2 (None, 16, 16, 64)        0         \n",
      "_________________________________________________________________\n",
      "conv2d_3 (Conv2D)            (None, 14, 14, 128)       73856     \n",
      "_________________________________________________________________\n",
      "max_pooling2d_3 (MaxPooling2 (None, 7, 7, 128)         0         \n",
      "_________________________________________________________________\n",
      "conv2d_4 (Conv2D)            (None, 5, 5, 256)         295168    \n",
      "_________________________________________________________________\n",
      "max_pooling2d_4 (MaxPooling2 (None, 2, 2, 256)         0         \n",
      "_________________________________________________________________\n",
      "flatten_1 (Flatten)          (None, 1024)              0         \n",
      "_________________________________________________________________\n",
      "dense_1 (Dense)              (None, 4096)              4198400   \n",
      "_________________________________________________________________\n",
      "dropout_1 (Dropout)          (None, 4096)              0         \n",
      "_________________________________________________________________\n",
      "dense_2 (Dense)              (None, 4096)              16781312  \n",
      "_________________________________________________________________\n",
      "dropout_2 (Dropout)          (None, 4096)              0         \n",
      "_________________________________________________________________\n",
      "dense_3 (Dense)              (None, 10)                40970     \n",
      "=================================================================\n",
      "Total params: 21,409,098\n",
      "Trainable params: 21,409,098\n",
      "Non-trainable params: 0\n",
      "_________________________________________________________________\n"
     ]
    }
   ],
   "source": [
    "model = Sequential()\n",
    "model.add(Conv2D(32, (3,3),\n",
    "                     input_shape=(img_x,img_y,3),\n",
    "                     padding='valid',\n",
    "                     bias_initializer='glorot_uniform',\n",
    "                     kernel_regularizer=l2(0.00004),\n",
    "                     kernel_initializer=VarianceScaling(scale=2.0, mode='fan_in', distribution='normal', seed=None),\n",
    "                     activation='relu'))\n",
    "model.add(MaxPooling2D(pool_size=(2,2)))\n",
    "    \n",
    "model.add(Conv2D(64, (3,3),\n",
    "                     padding='valid',\n",
    "                     bias_initializer='glorot_uniform',\n",
    "                     kernel_regularizer=l2(0.00004),\n",
    "                     kernel_initializer=VarianceScaling(scale=2.0, mode='fan_in', distribution='normal', seed=None),\n",
    "                     activation='relu'))\n",
    "model.add(MaxPooling2D(pool_size=(2,2)))\n",
    "    \n",
    "model.add(Conv2D(128, (3,3),\n",
    "                     padding='valid',\n",
    "                     bias_initializer='glorot_uniform',\n",
    "                     kernel_regularizer=l2(0.00004),\n",
    "                     kernel_initializer=VarianceScaling(scale=2.0, mode='fan_in', distribution='normal', seed=None),\n",
    "                     activation='relu'))\n",
    "model.add(MaxPooling2D(pool_size=(2,2)))\n",
    "    \n",
    "model.add(Conv2D(256, (3,3),\n",
    "                     padding='valid',\n",
    "                     bias_initializer='glorot_uniform',\n",
    "                     kernel_regularizer=l2(0.00004),\n",
    "                     kernel_initializer=VarianceScaling(scale=2.0, mode='fan_in', distribution='normal', seed=None),\n",
    "                     activation='relu'))\n",
    "model.add(MaxPooling2D(pool_size=(2,2)))\n",
    "    \n",
    "model.add(Flatten())\n",
    "    \n",
    "model.add(Dense(4096, activation='relu', bias_initializer='glorot_uniform'))\n",
    "model.add(Dropout(0.5))\n",
    "    \n",
    "model.add(Dense(4096, activation='relu', bias_initializer='glorot_uniform'))\n",
    "model.add(Dropout(0.5))\n",
    "    \n",
    "model.add(Dense(len(brands), activation='softmax'))\n",
    "    \n",
    "sgd = SGD(lr=0.005, decay=1e-6, momentum=0.95, nesterov=True)\n",
    "model.compile(loss='categorical_crossentropy', optimizer=sgd, metrics=['categorical_accuracy'])\n",
    "    \n",
    "model.summary()"
   ]
  },
  {
   "cell_type": "code",
   "execution_count": 22,
   "metadata": {},
   "outputs": [
    {
     "name": "stdout",
     "output_type": "stream",
     "text": [
      "WARNING:tensorflow:From C:\\Users\\Sanket\\Anaconda3\\lib\\site-packages\\tensorflow\\python\\ops\\math_ops.py:3066: to_int32 (from tensorflow.python.ops.math_ops) is deprecated and will be removed in a future version.\n",
      "Instructions for updating:\n",
      "Use tf.cast instead.\n",
      "Train on 8000 samples, validate on 2000 samples\n",
      "Epoch 1/10\n",
      "8000/8000 [==============================] - 120s 15ms/step - loss: 1.2406 - categorical_accuracy: 0.5906 - val_loss: 0.1269 - val_categorical_accuracy: 0.9745\n",
      "Epoch 2/10\n",
      "8000/8000 [==============================] - 116s 15ms/step - loss: 0.1063 - categorical_accuracy: 0.9785 - val_loss: 0.0654 - val_categorical_accuracy: 0.9925\n",
      "Epoch 3/10\n",
      "8000/8000 [==============================] - 113s 14ms/step - loss: 0.0831 - categorical_accuracy: 0.9879 - val_loss: 0.0577 - val_categorical_accuracy: 0.9950\n",
      "Epoch 4/10\n",
      "8000/8000 [==============================] - 116s 15ms/step - loss: 0.0577 - categorical_accuracy: 0.9945 - val_loss: 0.0473 - val_categorical_accuracy: 0.9985\n",
      "Epoch 5/10\n",
      "8000/8000 [==============================] - 112s 14ms/step - loss: 0.0591 - categorical_accuracy: 0.9944 - val_loss: 0.0459 - val_categorical_accuracy: 0.9980\n",
      "Epoch 6/10\n",
      "8000/8000 [==============================] - 110s 14ms/step - loss: 0.0419 - categorical_accuracy: 0.9998 - val_loss: 0.0419 - val_categorical_accuracy: 0.9995\n",
      "Epoch 7/10\n",
      "8000/8000 [==============================] - 111s 14ms/step - loss: 0.0432 - categorical_accuracy: 0.9991 - val_loss: 0.0440 - val_categorical_accuracy: 0.9995\n",
      "Epoch 8/10\n",
      "8000/8000 [==============================] - 111s 14ms/step - loss: 0.0418 - categorical_accuracy: 0.9995 - val_loss: 0.0413 - val_categorical_accuracy: 1.0000\n",
      "Epoch 9/10\n",
      "8000/8000 [==============================] - 110s 14ms/step - loss: 0.0455 - categorical_accuracy: 0.9981 - val_loss: 0.0485 - val_categorical_accuracy: 0.9975\n",
      "Epoch 10/10\n",
      "8000/8000 [==============================] - 109s 14ms/step - loss: 0.0494 - categorical_accuracy: 0.9971 - val_loss: 0.0447 - val_categorical_accuracy: 0.9990\n"
     ]
    }
   ],
   "source": [
    "history = model.fit(X_train,\n",
    "                    Y_train,\n",
    "                    batch_size=32,\n",
    "                    shuffle=True,\n",
    "                    epochs=10,\n",
    "                    verbose=1,\n",
    "                    validation_data=(X_val, Y_val))"
   ]
  },
  {
   "cell_type": "code",
   "execution_count": 23,
   "metadata": {},
   "outputs": [],
   "source": [
    "model.save(\"model.h5\")"
   ]
  },
  {
   "cell_type": "code",
   "execution_count": 27,
   "metadata": {},
   "outputs": [
    {
     "data": {
      "image/png": "[encoded data removed]",
      "text/plain": [
       "<Figure size 432x288 with 1 Axes>"
      ]
     },
     "metadata": {
      "needs_background": "light"
     },
     "output_type": "display_data"
    }
   ],
   "source": [
    "pd.DataFrame(history.history).plot()\n",
    "plt.grid(True)\n",
    "#plt.gca().set_ylim(0, 1) # set the vertical range to [0-1"
   ]
  },
  {
   "cell_type": "code",
   "execution_count": null,
   "metadata": {},
   "outputs": [],
   "source": []
  }
 ],
 "metadata": {
  "kernelspec": {
   "display_name": "Python 3",
   "language": "python",
   "name": "python3"
  },
  "language_info": {
   "codemirror_mode": {
    "name": "ipython",
    "version": 3
   },
   "file_extension": ".py",
   "mimetype": "text/x-python",
   "name": "python",
   "nbconvert_exporter": "python",
   "pygments_lexer": "ipython3",
   "version": "3.7.2"
  }
 },
 "nbformat": 4,
 "nbformat_minor": 2
}
